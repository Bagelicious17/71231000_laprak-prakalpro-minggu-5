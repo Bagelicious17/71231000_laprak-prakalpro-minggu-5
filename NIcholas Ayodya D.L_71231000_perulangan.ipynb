{
 "cells": [
  {
   "cell_type": "code",
   "execution_count": 1,
   "id": "7f717885",
   "metadata": {},
   "outputs": [
    {
     "name": "stdout",
     "output_type": "stream",
     "text": [
      "Masukkan jumlah mata kuliah yang diambil :6\n",
      "Nilai Mata Kuliah 1 :A\n",
      "Nilai Mata Kuliah 2 :B\n",
      "Nilai Mata Kuliah 3 :C\n",
      "Nilai Mata Kuliah 4 :A\n",
      "Nilai Mata Kuliah 5 :D\n",
      "Nilai Mata Kuliah 6 :C\n",
      "Nilai ips anda semester ini :2.67\n"
     ]
    }
   ],
   "source": [
    "mata_kuliah = int(input(\"Masukkan jumlah mata kuliah yang diambil :\"))\n",
    "total_sks = 0\n",
    "total_ipk = 0\n",
    "\n",
    "for t in range(mata_kuliah):\n",
    "    nilai = input(f\"Nilai Mata Kuliah {t+1} :\")\n",
    "    nilaii=nilai.lower()\n",
    "    sks = 3\n",
    "\n",
    "    if nilaii == \"a\":\n",
    "        ipk = 4 * sks\n",
    "    elif nilaii == \"b\":\n",
    "        ipk = 3 * sks\n",
    "    elif nilaii == \"c\":\n",
    "        ipk = 2 * sks\n",
    "    elif nilaii == \"d\":\n",
    "        ipk = 1 * sks\n",
    "    else:\n",
    "        print(\"SALAH\")\n",
    "\n",
    "    total_ipk += ipk\n",
    "    total_sks += sks\n",
    "\n",
    "mean = total_ipk / total_sks\n",
    "print(f\"Nilai ips anda semester ini :{mean:.2f}\")"
   ]
  },
  {
   "cell_type": "code",
   "execution_count": 2,
   "id": "10d5b75a",
   "metadata": {},
   "outputs": [
    {
     "name": "stdout",
     "output_type": "stream",
     "text": [
      "6 x 5 = 6 + 6 + 6 + 6 + 6 = 30\n",
      "7 x 10 = 7 + 7 + 7 + 7 + 7 + 7 + 7 + 7 + 7 + 7 = 70\n"
     ]
    }
   ],
   "source": [
    "#fungsi pertama untuk hasil akhir perhitungan\n",
    "def p(x, y):\n",
    "    q = 0\n",
    "    for t in range(y):\n",
    "        q += x\n",
    "    return q\n",
    "    \n",
    "#fungsi kedua untuk ketentuan yang harus dipenuhi pada output\n",
    "def r(a, b):\n",
    "    hasil = p(a, b)\n",
    "    print(f\"{a} x {b} = {' + '.join(str(a) for i in range(b))} = {hasil}\")\n",
    "\n",
    "r(6, 5)\n",
    "r(7,10)"
   ]
  },
  {
   "cell_type": "code",
   "execution_count": 3,
   "id": "9ba92283",
   "metadata": {},
   "outputs": [
    {
     "name": "stdout",
     "output_type": "stream",
     "text": [
      "97, 95, 93, 91, 89, 87, 85, 83, None\n",
      "11, 13, 15, 17, 19, 21, 23, 25, 27, 29, None\n"
     ]
    }
   ],
   "source": [
    "def p (b,a):\n",
    "    if b < a:\n",
    "        for t in range(b, a+1):\n",
    "            if t % 2 != 0:\n",
    "                print(t,end=\", \")\n",
    "    else:\n",
    "        for t in range(b, a-1,-1):\n",
    "            if t % 2 != 0:\n",
    "                print(t,end=\", \")\n",
    "\n",
    "print(p(97,82))\n",
    "print(p(10,30))"
   ]
  },
  {
   "cell_type": "code",
   "execution_count": null,
   "id": "c3024283",
   "metadata": {},
   "outputs": [],
   "source": []
  }
 ],
 "metadata": {
  "kernelspec": {
   "display_name": "Python 3 (ipykernel)",
   "language": "python",
   "name": "python3"
  },
  "language_info": {
   "codemirror_mode": {
    "name": "ipython",
    "version": 3
   },
   "file_extension": ".py",
   "mimetype": "text/x-python",
   "name": "python",
   "nbconvert_exporter": "python",
   "pygments_lexer": "ipython3",
   "version": "3.11.5"
  }
 },
 "nbformat": 4,
 "nbformat_minor": 5
}
